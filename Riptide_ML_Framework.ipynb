{
 "cells": [
  {
   "cell_type": "code",
   "execution_count": 1,
   "metadata": {},
   "outputs": [],
   "source": [
    "import os\n",
    "import random\n",
    "import numpy as np\n",
    "import pandas as pd\n",
    "from tqdm import tqdm\n",
    "\n",
    "import GEOparse\n",
    "import cobra\n",
    "import riptide\n",
    "\n",
    "import matplotlib.pyplot as plt\n",
    "%matplotlib inline\n",
    "\n",
    "import warnings\n",
    "warnings.filterwarnings('ignore')\n",
    "\n",
    "from sklearn.ensemble import RandomForestClassifier\n",
    "from sklearn.metrics import accuracy_score, confusion_matrix, f1_score, precision_score, recall_score"
   ]
  },
  {
   "cell_type": "markdown",
   "metadata": {},
   "source": [
    "### Read transcriptomics file"
   ]
  },
  {
   "cell_type": "code",
   "execution_count": 20,
   "metadata": {},
   "outputs": [],
   "source": [
    "# Download from https://www.ncbi.nlm.nih.gov/geo/query/acc.cgi?acc=GSE57945\n",
    "fname = 'data/GSE57945_family.soft.gz'\n",
    "folder_name = 'data/GSE57945_RAW/'\n",
    "\n",
    "# Read GEOparse\n",
    "gse = GEOparse.get_GEO(filepath=fname, silent=True)\n",
    "\n",
    "# Get all diagnosis\n",
    "diagnosis_data = pd.DataFrame()\n",
    "\n",
    "for key, value in gse.gsms.items():\n",
    "    gsm = key\n",
    "    name = value.metadata['description'][0]\n",
    "    diagnosis = value.metadata['characteristics_ch1'][4].split(':')[-1].strip()\n",
    "    \n",
    "    temp = pd.DataFrame([[gsm, name, diagnosis]])\n",
    "    diagnosis_data = diagnosis_data.append(temp)\n",
    "    \n",
    "diagnosis_data = diagnosis_data.reset_index(drop=True)\n",
    "diagnosis_data.columns = ['gsm', 'name', 'diagnosis']"
   ]
  },
  {
   "cell_type": "code",
   "execution_count": 100,
   "metadata": {},
   "outputs": [],
   "source": [
    "dfs = {\n",
    "    'CD': pd.DataFrame(),\n",
    "    'UC': pd.DataFrame(),\n",
    "    'Not IBD': pd.DataFrame(),\n",
    "    'not IBD': pd.DataFrame()\n",
    "}\n",
    "\n",
    "for index, row in diagnosis_data.iterrows():\n",
    "    tmp = pd.read_csv(folder_name + row['gsm'] + '_' + row['name'] + '.txt', sep='\\t')\n",
    "    \n",
    "    if len(dfs[row['diagnosis']]) == 0:\n",
    "        tmp = tmp[['Gene ID', 'Gene Symbol', row['name']]]\n",
    "        dfs[row['diagnosis']] = tmp\n",
    "    else:\n",
    "        tmp = tmp[['Gene ID', row['name']]]\n",
    "        dfs[row['diagnosis']] = pd.merge(dfs[row['diagnosis']], tmp, on='Gene ID')\n",
    "        \n",
    "# Combining not IBD and Not IBD        \n",
    "dfs['Not IBD'] = pd.merge(dfs['Not IBD'], dfs['not IBD'], on=['Gene ID', 'Gene Symbol'])     \n",
    "del dfs['not IBD']\n",
    "\n",
    "\n",
    "# Gene Map with all the genes present in Recon3D\n",
    "gene_name_num = pd.read_csv('data/gene_name_number.tsv', sep='\\t')\n",
    "gene_name_num = gene_name_num[['gene_number', 'symbol']]\n",
    "\n",
    "id_map = {}\n",
    "for keys in dfs.keys():\n",
    "    # Generate ID map\n",
    "    id_map[keys] = diagnosis_data.loc[diagnosis_data['diagnosis']==keys, 'name'].tolist()\n",
    "    \n",
    "    # merge gene number annotations to dataframe\n",
    "    dfs[keys] = pd.merge(gene_name_num, dfs[keys], left_on='symbol', right_on='Gene Symbol')\n",
    "    \n",
    "id_map['Not IBD'] += diagnosis_data.loc[diagnosis_data['diagnosis']=='not IBD', 'name'].tolist()    "
   ]
  },
  {
   "cell_type": "markdown",
   "metadata": {},
   "source": [
    "### Run Riptide for all patients"
   ]
  },
  {
   "cell_type": "code",
   "execution_count": null,
   "metadata": {},
   "outputs": [],
   "source": [
    "# Load Model\n",
    "model = cobra.io.load_matlab_model('data/Recon3D_301.mat')\n",
    "cobra.util.array.create_stoichiometric_matrix(model).shape\n",
    "\n",
    "def run_riptide(fname, pat_name):\n",
    "    \n",
    "    transcript_abundances = riptide.read_transcription_file(fname, replicates=False, norm=False)\n",
    "    riptide_object = riptide.contextualize(model=model, transcriptome=transcript_abundances, fraction=1.)\n",
    "\n",
    "    riptide_fva = riptide_object.flux_samples\n",
    "    riptide_fva['sample_number'] = pat_name\n",
    "    \n",
    "    return riptide_fva"
   ]
  },
  {
   "cell_type": "code",
   "execution_count": 110,
   "metadata": {
    "scrolled": true
   },
   "outputs": [
    {
     "name": "stdout",
     "output_type": "stream",
     "text": [
      "Running for - CD\n",
      "\n",
      "Initializing model and integrating transcriptomic data...\n",
      "Pruning zero flux subnetworks...\n",
      "Analyzing context-specific flux distributions...\n",
      "\n",
      "Reactions pruned to 817 from 13543 (93.97% change)\n",
      "Metabolites pruned to 773 from 8399 (90.8% change)\n",
      "Flux through the objective DECREASED to ~991.2 from ~1000.0 (0.88% change)\n",
      "Context-specific metabolism correlates with transcriptome (r=-0.191, p<0.001 *)\n",
      "\n",
      "RIPTiDe completed in, 5 minutes and 51 seconds \n",
      "\n"
     ]
    }
   ],
   "source": [
    "for keys in dfs.keys():\n",
    "    print('Running for - {}'.format(keys))\n",
    "    for pat_id in id_map[keys]:\n",
    "        dfs['CD'][['gene_number', pat_id]].to_csv('sample.tsv', header=False, index=False, sep='\\t')\n",
    "        pat_output = run_riptide('sample.tsv', pat_id)\n",
    "        pat_output.to_csv('output/{}.csv'.format(pat_id), index=False)\n",
    "        \n",
    "# Combine flux samples  \n",
    "for keys in dfs.keys():\n",
    "    list_of_pat_flux = []\n",
    "    for pat_id in id_map[keys]:\n",
    "        list_of_pat_flux.append(pd.read_csv('output/{}.csv'.format(pat_id)))\n",
    "        break\n",
    "    pd.concat(list_of_pat_flux, join='inner', ignore_index=0).to_csv(\\\n",
    "    'output/riptide_{}_flux_sample.csv'.format(keys), index=False)        "
   ]
  },
  {
   "cell_type": "markdown",
   "metadata": {},
   "source": [
    "### Run ML model on aggregated flux files"
   ]
  },
  {
   "cell_type": "code",
   "execution_count": 125,
   "metadata": {},
   "outputs": [],
   "source": [
    "df_cd = pd.read_csv('output/riptide_CD_flux_sample.csv')\n",
    "df_cd = pd.read_csv('output/riptide_Not IBD_flux_sample.csv')\n",
    "\n",
    "# Using only iCD patients\n",
    "cd_ibd = pd.read_csv('data/2-7-2021 cd_uc_split.csv')\n",
    "df_cd = df_cd.loc[df_cd['sample_number'].isin(cd_ibd.loc[cd_ibd['value']=='iCD', 'name'].tolist())].reset_index(drop=True)\n",
    "\n",
    "df_cd['label'] = 1\n",
    "df_not_ibd['label'] = 0\n",
    "\n",
    "df = pd.concat([df_cd, df_not_ibd], join='inner') "
   ]
  },
  {
   "cell_type": "markdown",
   "metadata": {},
   "source": [
    "##### Model instructions\n",
    " - Run model multiple times with different train-val split \n",
    " - Only keeping top reactions from the runs where gains are greater than 0.2. This rule can be modified based on project goals."
   ]
  },
  {
   "cell_type": "code",
   "execution_count": 134,
   "metadata": {
    "scrolled": true
   },
   "outputs": [
    {
     "name": "stderr",
     "output_type": "stream",
     "text": [
      "  1%|          | 1/100 [00:06<10:34,  6.41s/it]"
     ]
    },
    {
     "name": "stdout",
     "output_type": "stream",
     "text": [
      "Training accuracy on selected features: 1.000\n",
      "Testing accuracy on selected features: 0.907\n",
      "F1 Score: 0.9100410600970511\n",
      "Distribution:  0.5246723207401697\n",
      "Imp features:  Index(['ATP2ter', 'HMGCOAtm', 'EX_uri[e]', 'LPS2', 'FACOAL245_2',\n",
      "       'sink_lnlncacoa[c]', 'URIt', 'r1466', 'EX_Rtotal[e]', 'MEV_Rt'],\n",
      "      dtype='object')\n",
      "--------------------\n",
      "Gain:  0.3824209714726291\n",
      "--------------------\n",
      "********************\n",
      "********************\n"
     ]
    },
    {
     "name": "stderr",
     "output_type": "stream",
     "text": [
      "\r",
      "  2%|▏         | 2/100 [00:11<09:39,  5.91s/it]"
     ]
    },
    {
     "name": "stdout",
     "output_type": "stream",
     "text": [
      "Training accuracy on selected features: 1.000\n",
      "Testing accuracy on selected features: 0.816\n",
      "F1 Score: 0.7967618236046017\n",
      "Distribution:  0.5374228395061729\n",
      "Imp features:  Index(['ATP2ter', 'PEt', 'EX_pe_hs[e]', 'sink_lnlncacoa[c]', 'r1004', 'r1466',\n",
      "       'r0431', 'r0430', 'EX_uri[e]', 'FACOAL245_2'],\n",
      "      dtype='object')\n",
      "--------------------\n",
      "Gain:  0.27854938271604934\n",
      "--------------------\n",
      "********************\n",
      "********************\n"
     ]
    },
    {
     "name": "stderr",
     "output_type": "stream",
     "text": [
      "\r",
      "  3%|▎         | 3/100 [00:18<09:50,  6.09s/it]"
     ]
    },
    {
     "name": "stdout",
     "output_type": "stream",
     "text": [
      "Training accuracy on selected features: 1.000\n",
      "Testing accuracy on selected features: 0.884\n",
      "F1 Score: 0.9128500392567389\n",
      "Distribution:  0.6127793296089385\n",
      "Imp features:  Index(['FACOAL245_2', 'ATP2ter', 'HMGCOAtm', 'EX_mev_R[e]', 'r0488', 'MEV_Rt',\n",
      "       'LPS2', 'EX_uri[e]', 'RTOTALt', 'URIt'],\n",
      "      dtype='object')\n",
      "--------------------\n",
      "Gain:  0.270949720670391\n",
      "--------------------\n",
      "********************\n",
      "********************\n"
     ]
    },
    {
     "name": "stderr",
     "output_type": "stream",
     "text": [
      "\r",
      "  4%|▍         | 4/100 [00:24<09:41,  6.06s/it]"
     ]
    },
    {
     "name": "stdout",
     "output_type": "stream",
     "text": [
      "Training accuracy on selected features: 1.000\n",
      "Testing accuracy on selected features: 0.712\n",
      "F1 Score: 0.7525083612040133\n",
      "Distribution:  0.608167233835683\n",
      "Failed to gain:  0.10403500243072439\n",
      "********************\n",
      "********************\n"
     ]
    },
    {
     "name": "stderr",
     "output_type": "stream",
     "text": [
      "\r",
      "  5%|▌         | 5/100 [00:29<09:13,  5.83s/it]"
     ]
    },
    {
     "name": "stdout",
     "output_type": "stream",
     "text": [
      "Training accuracy on selected features: 1.000\n",
      "Testing accuracy on selected features: 0.726\n",
      "F1 Score: 0.6688632619439867\n",
      "Distribution:  0.5479763528876762\n",
      "Failed to gain:  0.17780809458844926\n",
      "********************\n",
      "********************\n"
     ]
    },
    {
     "name": "stderr",
     "output_type": "stream",
     "text": [
      "\r",
      "  6%|▌         | 6/100 [00:35<09:06,  5.81s/it]"
     ]
    },
    {
     "name": "stdout",
     "output_type": "stream",
     "text": [
      "Training accuracy on selected features: 1.000\n",
      "Testing accuracy on selected features: 0.855\n",
      "F1 Score: 0.8703170028818443\n",
      "Distribution:  0.5570739549839229\n",
      "Imp features:  Index(['r0488', 'MEV_Rt', 'HMGCOAtm', 'EX_mev_R[e]', 'ATP2ter', 'FACOAL245_2',\n",
      "       'PEt', 'EX_sphgn[e]', 'LPS2', 'EX_pe_hs[e]'],\n",
      "      dtype='object')\n",
      "--------------------\n",
      "Gain:  0.29823151125401925\n",
      "--------------------\n",
      "********************\n",
      "********************\n"
     ]
    },
    {
     "name": "stderr",
     "output_type": "stream",
     "text": [
      "\r",
      "  7%|▋         | 7/100 [00:40<08:40,  5.59s/it]"
     ]
    },
    {
     "name": "stdout",
     "output_type": "stream",
     "text": [
      "Training accuracy on selected features: 1.000\n",
      "Testing accuracy on selected features: 0.811\n",
      "F1 Score: 0.8259109311740891\n",
      "Distribution:  0.5114503816793893\n",
      "Imp features:  Index(['MEV_Rt', 'sink_lnlc[c]', 'r1050', 'ATP2ter', 'sink_lnlncacoa[c]',\n",
      "       'NDPK4', 'LPS2', 'PGLYCt', 'PEt', 'CLS_hs'],\n",
      "      dtype='object')\n",
      "--------------------\n",
      "Gain:  0.29917792131532595\n",
      "--------------------\n",
      "********************\n",
      "********************\n"
     ]
    },
    {
     "name": "stderr",
     "output_type": "stream",
     "text": [
      "\r",
      "  8%|▊         | 8/100 [00:46<08:39,  5.65s/it]"
     ]
    },
    {
     "name": "stdout",
     "output_type": "stream",
     "text": [
      "Training accuracy on selected features: 1.000\n",
      "Testing accuracy on selected features: 0.695\n",
      "F1 Score: 0.6418242491657398\n",
      "Distribution:  0.510194404931247\n",
      "Failed to gain:  0.1844476055002371\n",
      "********************\n",
      "********************\n"
     ]
    },
    {
     "name": "stderr",
     "output_type": "stream",
     "text": [
      "\r",
      "  9%|▉         | 9/100 [00:51<08:19,  5.49s/it]"
     ]
    },
    {
     "name": "stdout",
     "output_type": "stream",
     "text": [
      "Training accuracy on selected features: 1.000\n",
      "Testing accuracy on selected features: 0.876\n",
      "F1 Score: 0.8628708901363271\n",
      "Distribution:  0.5142960550126674\n",
      "Imp features:  Index(['FACOAL245_2', 'URIt', 'HMGCOAtm', 'EX_mev_R[e]', 'r1466',\n",
      "       'sink_lnlncacoa[c]', 'r0488', 'ATP2ter', 'EX_uri[e]', 'sink_lnlc[c]'],\n",
      "      dtype='object')\n",
      "--------------------\n",
      "Gain:  0.36192544335866805\n",
      "--------------------\n",
      "********************\n",
      "********************\n"
     ]
    },
    {
     "name": "stderr",
     "output_type": "stream",
     "text": [
      "\r",
      " 10%|█         | 10/100 [00:57<08:22,  5.58s/it]"
     ]
    },
    {
     "name": "stdout",
     "output_type": "stream",
     "text": [
      "Training accuracy on selected features: 1.000\n",
      "Testing accuracy on selected features: 0.831\n",
      "F1 Score: 0.8447796744739976\n",
      "Distribution:  0.5493934142114385\n",
      "Imp features:  Index(['ATP2ter', 'MEV_Rt', 'sink_lnlncacoa[c]', 'HMGCOAtm', 'EX_mev_R[e]',\n",
      "       'r0488', 'r1050', 'FACOAL245_2', 'EX_Rtotal[e]', 'RTOTALt'],\n",
      "      dtype='object')\n",
      "--------------------\n",
      "Gain:  0.2811958405545927\n",
      "--------------------\n",
      "********************\n",
      "********************\n"
     ]
    },
    {
     "name": "stderr",
     "output_type": "stream",
     "text": [
      "\r",
      " 11%|█         | 11/100 [01:03<08:21,  5.64s/it]"
     ]
    },
    {
     "name": "stdout",
     "output_type": "stream",
     "text": [
      "Training accuracy on selected features: 1.000\n",
      "Testing accuracy on selected features: 0.697\n",
      "F1 Score: 0.666359021688971\n",
      "Distribution:  0.5016778523489933\n",
      "Failed to gain:  0.1950503355704698\n",
      "********************\n",
      "********************\n"
     ]
    },
    {
     "name": "stderr",
     "output_type": "stream",
     "text": [
      "\r",
      " 12%|█▏        | 12/100 [01:08<08:20,  5.68s/it]"
     ]
    },
    {
     "name": "stdout",
     "output_type": "stream",
     "text": [
      "Training accuracy on selected features: 1.000\n",
      "Testing accuracy on selected features: 0.814\n",
      "F1 Score: 0.7832238504295097\n",
      "Distribution:  0.5075790385448247\n",
      "Imp features:  Index(['ATP2ter', 'EX_uri[e]', 'FACOAL245_2', 'URIt', 'r1466',\n",
      "       'sink_lnlncacoa[c]', 'sink_lnlc[c]', 'EX_mev_R[e]', 'HMGCOAtm',\n",
      "       'MEV_Rt'],\n",
      "      dtype='object')\n",
      "--------------------\n",
      "Gain:  0.3066262451277608\n",
      "--------------------\n",
      "********************\n",
      "********************\n"
     ]
    },
    {
     "name": "stderr",
     "output_type": "stream",
     "text": [
      "\r",
      " 13%|█▎        | 13/100 [01:15<08:26,  5.82s/it]"
     ]
    },
    {
     "name": "stdout",
     "output_type": "stream",
     "text": [
      "Training accuracy on selected features: 1.000\n",
      "Testing accuracy on selected features: 0.759\n",
      "F1 Score: 0.8089005235602095\n",
      "Distribution:  0.5625774473358116\n",
      "Failed to gain:  0.19619991738950848\n",
      "********************\n",
      "********************\n"
     ]
    },
    {
     "name": "stderr",
     "output_type": "stream",
     "text": [
      "\r",
      " 14%|█▍        | 14/100 [01:21<08:31,  5.95s/it]"
     ]
    },
    {
     "name": "stdout",
     "output_type": "stream",
     "text": [
      "Training accuracy on selected features: 1.000\n",
      "Testing accuracy on selected features: 0.816\n",
      "F1 Score: 0.8169528681037631\n",
      "Distribution:  0.5377565982404692\n",
      "Imp features:  Index(['ATP2ter', 'r0488', 'sink_lnlncacoa[c]', 'EX_mev_R[e]', 'HMGCOAtm',\n",
      "       'FACOAL245_2', 'r1466', 'r1004', 'RTOTALt', 'DNDPt9m'],\n",
      "      dtype='object')\n",
      "--------------------\n",
      "Gain:  0.278592375366569\n",
      "--------------------\n",
      "********************\n",
      "********************\n"
     ]
    },
    {
     "name": "stderr",
     "output_type": "stream",
     "text": [
      "\r",
      " 15%|█▌        | 15/100 [01:27<08:44,  6.18s/it]"
     ]
    },
    {
     "name": "stdout",
     "output_type": "stream",
     "text": [
      "Training accuracy on selected features: 1.000\n",
      "Testing accuracy on selected features: 0.730\n",
      "F1 Score: 0.7789248843004628\n",
      "Distribution:  0.6165870603560574\n",
      "Failed to gain:  0.11376465479808939\n",
      "********************\n",
      "********************\n"
     ]
    },
    {
     "name": "stderr",
     "output_type": "stream",
     "text": [
      "\r",
      " 16%|█▌        | 16/100 [01:34<08:46,  6.27s/it]"
     ]
    },
    {
     "name": "stdout",
     "output_type": "stream",
     "text": [
      "Training accuracy on selected features: 1.000\n",
      "Testing accuracy on selected features: 0.903\n",
      "F1 Score: 0.9099848714069593\n",
      "Distribution:  0.5291970802919708\n",
      "Imp features:  Index(['ATP2ter', 'FACOAL245_2', 'URIt', 'sink_lnlncacoa[c]', 'GLDBRAN',\n",
      "       'DNDPt9m', 'EX_dgsn[e]', 'DGTPtn', 'PGLYCt', 'r0431'],\n",
      "      dtype='object')\n",
      "--------------------\n",
      "Gain:  0.37429034874290357\n",
      "--------------------\n",
      "********************\n",
      "********************\n"
     ]
    },
    {
     "name": "stderr",
     "output_type": "stream",
     "text": [
      "\r",
      " 17%|█▋        | 17/100 [01:40<08:30,  6.15s/it]"
     ]
    },
    {
     "name": "stdout",
     "output_type": "stream",
     "text": [
      "Training accuracy on selected features: 1.000\n",
      "Testing accuracy on selected features: 0.862\n",
      "F1 Score: 0.8515433610975014\n",
      "Distribution:  0.5367747830059388\n",
      "Imp features:  Index(['FACOAL245_2', 'r0488', 'ATP2ter', 'biomass_reaction', 'URIt',\n",
      "       'SPHGNte', 'EX_Rtotal[e]', 'HMGCOAtm', 'r0407', 'HMR_0753'],\n",
      "      dtype='object')\n",
      "--------------------\n",
      "Gain:  0.3248058474189127\n",
      "--------------------\n",
      "********************\n",
      "********************\n"
     ]
    },
    {
     "name": "stderr",
     "output_type": "stream",
     "text": [
      "\r",
      " 18%|█▊        | 18/100 [01:46<08:17,  6.07s/it]"
     ]
    },
    {
     "name": "stdout",
     "output_type": "stream",
     "text": [
      "Training accuracy on selected features: 1.000\n",
      "Testing accuracy on selected features: 0.748\n",
      "F1 Score: 0.7741450582487786\n",
      "Distribution:  0.633696563285834\n",
      "Failed to gain:  0.11441743503772006\n",
      "********************\n",
      "********************\n"
     ]
    },
    {
     "name": "stderr",
     "output_type": "stream",
     "text": [
      "\r",
      " 19%|█▉        | 19/100 [01:52<08:27,  6.26s/it]"
     ]
    },
    {
     "name": "stdout",
     "output_type": "stream",
     "text": [
      "Training accuracy on selected features: 1.000\n",
      "Testing accuracy on selected features: 0.835\n",
      "F1 Score: 0.8722589627567003\n",
      "Distribution:  0.6174617461746175\n",
      "Imp features:  Index(['ATP2ter', 'EX_sphgn[e]', 'HMGCOAtm', 'FACOAL245_2', 'HMR_0692',\n",
      "       'MEV_Rt', 'RTOTALt', 'r1050', 'LPS2', 'EX_mev_R[e]'],\n",
      "      dtype='object')\n",
      "--------------------\n",
      "Gain:  0.21737173717371738\n",
      "--------------------\n",
      "********************\n",
      "********************\n"
     ]
    },
    {
     "name": "stderr",
     "output_type": "stream",
     "text": [
      "\r",
      " 20%|██        | 20/100 [01:59<08:22,  6.28s/it]"
     ]
    },
    {
     "name": "stdout",
     "output_type": "stream",
     "text": [
      "Training accuracy on selected features: 1.000\n",
      "Testing accuracy on selected features: 0.886\n",
      "F1 Score: 0.9053638537751963\n",
      "Distribution:  0.5897647544366488\n",
      "Imp features:  Index(['ATP2ter', 'sink_lnlc[c]', 'FACOAL245_2', 'GLPASE1', 'EX_pe_hs[e]',\n",
      "       'NDPK4', 'EX_mev_R[e]', 'r1466', 'r0488', 'sink_lnlncacoa[c]'],\n",
      "      dtype='object')\n",
      "--------------------\n",
      "Gain:  0.2959141560049525\n",
      "--------------------\n",
      "********************\n",
      "********************\n"
     ]
    },
    {
     "name": "stderr",
     "output_type": "stream",
     "text": [
      "\r",
      " 21%|██        | 21/100 [02:05<08:27,  6.42s/it]"
     ]
    },
    {
     "name": "stdout",
     "output_type": "stream",
     "text": [
      "Training accuracy on selected features: 1.000\n",
      "Testing accuracy on selected features: 0.630\n",
      "F1 Score: 0.686652977412731\n",
      "Distribution:  0.6631067961165048\n",
      "Failed to gain:  -0.033495145631067924\n",
      "********************\n",
      "********************\n"
     ]
    },
    {
     "name": "stderr",
     "output_type": "stream",
     "text": [
      "\r",
      " 22%|██▏       | 22/100 [02:12<08:24,  6.47s/it]"
     ]
    },
    {
     "name": "stdout",
     "output_type": "stream",
     "text": [
      "Training accuracy on selected features: 1.000\n",
      "Testing accuracy on selected features: 0.876\n",
      "F1 Score: 0.8608608608608609\n",
      "Distribution:  0.54014272970562\n",
      "Imp features:  Index(['ATP2ter', 'sink_lnlncacoa[c]', 'EX_pglyc_hs[e]', 'DGTPtn', 'PGLYCt',\n",
      "       'HMR_0753', 'DNDPt9m', 'CLS_hs', 'HMR_0692', 'EX_sphgn[e]'],\n",
      "      dtype='object')\n",
      "--------------------\n",
      "Gain:  0.3358608385370204\n",
      "--------------------\n",
      "********************\n",
      "********************\n"
     ]
    },
    {
     "name": "stderr",
     "output_type": "stream",
     "text": [
      "\r",
      " 23%|██▎       | 23/100 [02:19<08:18,  6.47s/it]"
     ]
    },
    {
     "name": "stdout",
     "output_type": "stream",
     "text": [
      "Training accuracy on selected features: 1.000\n",
      "Testing accuracy on selected features: 0.869\n",
      "F1 Score: 0.8801791713325867\n",
      "Distribution:  0.5538272615636513\n",
      "Imp features:  Index(['ATP2ter', 'r1466', 'FACOAL245_2', 'sink_lnlncacoa[c]', 'r0430',\n",
      "       'r0431', 'DTTPtn', 'HMGCOAtm', 'r1004', 'EX_sphgn[e]'],\n",
      "      dtype='object')\n",
      "--------------------\n",
      "Gain:  0.31477691363078186\n",
      "--------------------\n",
      "********************\n",
      "********************\n"
     ]
    },
    {
     "name": "stderr",
     "output_type": "stream",
     "text": [
      "\r",
      " 24%|██▍       | 24/100 [02:25<08:11,  6.47s/it]"
     ]
    },
    {
     "name": "stdout",
     "output_type": "stream",
     "text": [
      "Training accuracy on selected features: 1.000\n",
      "Testing accuracy on selected features: 0.718\n",
      "F1 Score: 0.757347915242652\n",
      "Distribution:  0.5646123260437376\n",
      "Failed to gain:  0.1530815109343936\n",
      "********************\n",
      "********************\n"
     ]
    },
    {
     "name": "stderr",
     "output_type": "stream",
     "text": [
      "\r",
      " 25%|██▌       | 25/100 [02:31<07:45,  6.20s/it]"
     ]
    },
    {
     "name": "stdout",
     "output_type": "stream",
     "text": [
      "Training accuracy on selected features: 1.000\n",
      "Testing accuracy on selected features: 0.808\n",
      "F1 Score: 0.8527801786228753\n",
      "Distribution:  0.6351656626506024\n",
      "Failed to gain:  0.1724397590361446\n",
      "********************\n",
      "********************\n"
     ]
    },
    {
     "name": "stderr",
     "output_type": "stream",
     "text": [
      "\r",
      " 26%|██▌       | 26/100 [02:37<07:48,  6.33s/it]"
     ]
    },
    {
     "name": "stdout",
     "output_type": "stream",
     "text": [
      "Training accuracy on selected features: 1.000\n",
      "Testing accuracy on selected features: 0.794\n",
      "F1 Score: 0.8409314529353886\n",
      "Distribution:  0.6519148936170213\n",
      "Failed to gain:  0.14170212765957446\n",
      "********************\n",
      "********************\n"
     ]
    },
    {
     "name": "stderr",
     "output_type": "stream",
     "text": [
      "\r",
      " 27%|██▋       | 27/100 [02:43<07:38,  6.28s/it]"
     ]
    },
    {
     "name": "stdout",
     "output_type": "stream",
     "text": [
      "Training accuracy on selected features: 1.000\n",
      "Testing accuracy on selected features: 0.744\n",
      "F1 Score: 0.7545001914975106\n",
      "Distribution:  0.5689724110355857\n",
      "Failed to gain:  0.17473010795681732\n",
      "********************\n",
      "********************\n"
     ]
    },
    {
     "name": "stderr",
     "output_type": "stream",
     "text": [
      "\r",
      " 28%|██▊       | 28/100 [02:49<07:23,  6.16s/it]"
     ]
    },
    {
     "name": "stdout",
     "output_type": "stream",
     "text": [
      "Training accuracy on selected features: 1.000\n",
      "Testing accuracy on selected features: 0.714\n",
      "F1 Score: 0.7485811577752555\n",
      "Distribution:  0.5554480980012895\n",
      "Failed to gain:  0.15892972275951\n",
      "********************\n",
      "********************\n"
     ]
    },
    {
     "name": "stderr",
     "output_type": "stream",
     "text": [
      "\r",
      " 29%|██▉       | 29/100 [02:56<07:20,  6.21s/it]"
     ]
    },
    {
     "name": "stdout",
     "output_type": "stream",
     "text": [
      "Training accuracy on selected features: 1.000\n",
      "Testing accuracy on selected features: 0.863\n",
      "F1 Score: 0.8847962382445141\n",
      "Distribution:  0.5624709707385044\n",
      "Imp features:  Index(['FACOAL245_2', 'ATP2ter', 'SPHGNte', 'EX_mev_R[e]', 'HMR_0753',\n",
      "       'DTTPtn', 'sink_lnlncacoa[c]', 'HMGCOAtm', 'URIt', 'EX_uri[e]'],\n",
      "      dtype='object')\n",
      "--------------------\n",
      "Gain:  0.3009753831862517\n",
      "--------------------\n",
      "********************\n",
      "********************\n"
     ]
    },
    {
     "name": "stderr",
     "output_type": "stream",
     "text": [
      "\r",
      " 30%|███       | 30/100 [03:02<07:09,  6.13s/it]"
     ]
    },
    {
     "name": "stdout",
     "output_type": "stream",
     "text": [
      "Training accuracy on selected features: 1.000\n",
      "Testing accuracy on selected features: 0.797\n",
      "F1 Score: 0.8251618871415356\n",
      "Distribution:  0.606970509383378\n",
      "Failed to gain:  0.19034852546916892\n",
      "********************\n",
      "********************\n"
     ]
    },
    {
     "name": "stderr",
     "output_type": "stream",
     "text": [
      "\r",
      " 31%|███       | 31/100 [03:08<07:00,  6.10s/it]"
     ]
    },
    {
     "name": "stdout",
     "output_type": "stream",
     "text": [
      "Training accuracy on selected features: 1.000\n",
      "Testing accuracy on selected features: 0.934\n",
      "F1 Score: 0.9482439926062847\n",
      "Distribution:  0.6409448818897637\n",
      "Imp features:  Index(['ATP2ter', 'EX_Rtotal[e]', 'RTOTALt', 'FACOAL245_2', 'EX_mev_R[e]',\n",
      "       'sink_lnlc[c]', 'r0488', 'LPS2', 'HMGCOAtm', 'EX_uri[e]'],\n",
      "      dtype='object')\n",
      "--------------------\n",
      "Gain:  0.29291338582677173\n",
      "--------------------\n",
      "********************\n",
      "********************\n"
     ]
    },
    {
     "name": "stderr",
     "output_type": "stream",
     "text": [
      "\r",
      " 32%|███▏      | 32/100 [03:14<07:06,  6.27s/it]"
     ]
    },
    {
     "name": "stdout",
     "output_type": "stream",
     "text": [
      "Training accuracy on selected features: 1.000\n",
      "Testing accuracy on selected features: 0.871\n",
      "F1 Score: 0.8796263025512037\n",
      "Distribution:  0.5789676425269645\n",
      "Imp features:  Index(['HMGCOAtm', 'ATP2ter', 'MEV_Rt', 'EX_mev_R[e]', 'FACOAL245_2', 'r0488',\n",
      "       'sink_lnlncacoa[c]', 'SPHGNte', 'EX_uri[e]', 'GLPASE1'],\n",
      "      dtype='object')\n",
      "--------------------\n",
      "Gain:  0.29198767334360554\n",
      "--------------------\n",
      "********************\n",
      "********************\n"
     ]
    },
    {
     "name": "stderr",
     "output_type": "stream",
     "text": [
      "\r",
      " 33%|███▎      | 33/100 [03:21<07:00,  6.28s/it]"
     ]
    },
    {
     "name": "stdout",
     "output_type": "stream",
     "text": [
      "Training accuracy on selected features: 1.000\n",
      "Testing accuracy on selected features: 0.905\n",
      "F1 Score: 0.9048821548821548\n",
      "Distribution:  0.533698399326032\n",
      "Imp features:  Index(['ATP2ter', 'HMR_0692', 'EX_pe_hs[e]', 'PGLYCt', 'PEt', 'FACOAL245_2',\n",
      "       'sink_lnlncacoa[c]', 'DNDPt9m', 'EX_pglyc_hs[e]', 'biomass_reaction'],\n",
      "      dtype='object')\n",
      "--------------------\n",
      "Gain:  0.3711036225779275\n",
      "--------------------\n",
      "********************\n",
      "********************\n"
     ]
    },
    {
     "name": "stderr",
     "output_type": "stream",
     "text": [
      "\r",
      " 34%|███▍      | 34/100 [03:27<06:55,  6.30s/it]"
     ]
    },
    {
     "name": "stdout",
     "output_type": "stream",
     "text": [
      "Training accuracy on selected features: 1.000\n",
      "Testing accuracy on selected features: 0.854\n",
      "F1 Score: 0.8848901825879864\n",
      "Distribution:  0.644175897952333\n",
      "Imp features:  Index(['HMGCOAtm', 'sink_lnlncacoa[c]', 'r1466', 'r0488', 'LPS2',\n",
      "       'EX_HC01361[e]', 'EX_mev_R[e]', 'ATP2ter', 'MEV_Rt', 'EX_Rtotal[e]'],\n",
      "      dtype='object')\n",
      "--------------------\n",
      "Gain:  0.20980194696206778\n",
      "--------------------\n",
      "********************\n",
      "********************\n"
     ]
    },
    {
     "name": "stderr",
     "output_type": "stream",
     "text": [
      "\r",
      " 35%|███▌      | 35/100 [03:33<06:40,  6.17s/it]"
     ]
    },
    {
     "name": "stdout",
     "output_type": "stream",
     "text": [
      "Training accuracy on selected features: 1.000\n",
      "Testing accuracy on selected features: 0.775\n",
      "F1 Score: 0.8096054888507719\n",
      "Distribution:  0.6025033829499323\n",
      "Failed to gain:  0.17219215155615697\n",
      "********************\n",
      "********************\n"
     ]
    },
    {
     "name": "stderr",
     "output_type": "stream",
     "text": [
      "\r",
      " 36%|███▌      | 36/100 [03:39<06:30,  6.09s/it]"
     ]
    },
    {
     "name": "stdout",
     "output_type": "stream",
     "text": [
      "Training accuracy on selected features: 1.000\n",
      "Testing accuracy on selected features: 0.890\n",
      "F1 Score: 0.8979739507959479\n",
      "Distribution:  0.5694716242661448\n",
      "Imp features:  Index(['ATP2ter', 'FACOAL245_2', 'HMGCOAtm', 'r0488', 'EX_mev_R[e]',\n",
      "       'EX_pglyc_hs[e]', 'MEV_Rt', 'RTOTALt', 'SMS', 'r1466'],\n",
      "      dtype='object')\n",
      "--------------------\n",
      "Gain:  0.32015655577299407\n",
      "--------------------\n",
      "********************\n",
      "********************\n"
     ]
    },
    {
     "name": "stderr",
     "output_type": "stream",
     "text": [
      "\r",
      " 37%|███▋      | 37/100 [03:44<06:18,  6.01s/it]"
     ]
    },
    {
     "name": "stdout",
     "output_type": "stream",
     "text": [
      "Training accuracy on selected features: 1.000\n",
      "Testing accuracy on selected features: 0.723\n",
      "F1 Score: 0.7185185185185186\n",
      "Distribution:  0.5210867802108679\n",
      "Imp features:  Index(['FACOAL245_2', 'sink_lnlncacoa[c]', 'HMGCOAtm', 'MEV_Rt', 'ATP2ter',\n",
      "       'RE0344C', 'sink_lnlc[c]', 'NDPK4', 'r0488', 'CLS_hs'],\n",
      "      dtype='object')\n",
      "--------------------\n",
      "Gain:  0.20154095701540953\n",
      "--------------------\n",
      "********************\n",
      "********************\n"
     ]
    },
    {
     "name": "stderr",
     "output_type": "stream",
     "text": [
      "\r",
      " 38%|███▊      | 38/100 [03:50<06:11,  6.00s/it]"
     ]
    },
    {
     "name": "stdout",
     "output_type": "stream",
     "text": [
      "Training accuracy on selected features: 1.000\n",
      "Testing accuracy on selected features: 0.930\n",
      "F1 Score: 0.9283246977547496\n",
      "Distribution:  0.5205421431596781\n",
      "Imp features:  Index(['ATP2ter', 'sink_lnlncacoa[c]', 'EX_pglyc_hs[e]', 'FACOAL245_2',\n",
      "       'HMR_0692', 'DNDPt9m', 'RTOTALt', 'PGLYCt', 'DGTPtn', 'SPHGNte'],\n",
      "      dtype='object')\n",
      "--------------------\n",
      "Gain:  0.409148665819568\n",
      "--------------------\n",
      "********************\n",
      "********************\n"
     ]
    },
    {
     "name": "stderr",
     "output_type": "stream",
     "text": [
      "\r",
      " 39%|███▉      | 39/100 [03:56<05:59,  5.89s/it]"
     ]
    },
    {
     "name": "stdout",
     "output_type": "stream",
     "text": [
      "Training accuracy on selected features: 1.000\n",
      "Testing accuracy on selected features: 0.881\n",
      "F1 Score: 0.8584031760035289\n",
      "Distribution:  0.5786745649759348\n",
      "Imp features:  Index(['ATP2ter', 'DGTPtn', 'PGLYCt', 'HMR_0753', 'DNDPt9m', 'SMS', 'CLS_hs',\n",
      "       'sink_lnlncacoa[c]', 'EX_sphgn[e]', 'DTTPtn'],\n",
      "      dtype='object')\n",
      "--------------------\n",
      "Gain:  0.3024805627545354\n",
      "--------------------\n",
      "********************\n",
      "********************\n"
     ]
    },
    {
     "name": "stderr",
     "output_type": "stream",
     "text": [
      "\r",
      " 40%|████      | 40/100 [04:02<05:48,  5.81s/it]"
     ]
    },
    {
     "name": "stdout",
     "output_type": "stream",
     "text": [
      "Training accuracy on selected features: 1.000\n",
      "Testing accuracy on selected features: 0.820\n",
      "F1 Score: 0.8294601358598498\n",
      "Distribution:  0.5723981900452488\n",
      "Imp features:  Index(['ATP2ter', 'FACOAL245_2', 'biomass_reaction', 'PEt', 'LPS2', 'SPHGNte',\n",
      "       'r1466', 'DNDPt9m', 'SMS', 'EX_sphgn[e]'],\n",
      "      dtype='object')\n",
      "--------------------\n",
      "Gain:  0.24773755656108598\n",
      "--------------------\n",
      "********************\n",
      "********************\n"
     ]
    },
    {
     "name": "stderr",
     "output_type": "stream",
     "text": [
      "\r",
      " 41%|████      | 41/100 [04:08<05:42,  5.81s/it]"
     ]
    },
    {
     "name": "stdout",
     "output_type": "stream",
     "text": [
      "Training accuracy on selected features: 1.000\n",
      "Testing accuracy on selected features: 0.704\n",
      "F1 Score: 0.7145692735212386\n",
      "Distribution:  0.5385567010309278\n",
      "Failed to gain:  0.1649484536082475\n",
      "********************\n",
      "********************\n"
     ]
    },
    {
     "name": "stderr",
     "output_type": "stream",
     "text": [
      "\r",
      " 42%|████▏     | 42/100 [04:13<05:35,  5.78s/it]"
     ]
    },
    {
     "name": "stdout",
     "output_type": "stream",
     "text": [
      "Training accuracy on selected features: 1.000\n",
      "Testing accuracy on selected features: 0.904\n",
      "F1 Score: 0.8953271028037383\n",
      "Distribution:  0.5323340471092077\n",
      "Imp features:  Index(['ATP2ter', 'FACOAL245_2', 'HMGCOAtm', 'EX_uri[e]', 'MEV_Rt', 'URIt',\n",
      "       'sink_lnlncacoa[c]', 'sink_lnlc[c]', 'r1466', 'r0488'],\n",
      "      dtype='object')\n",
      "--------------------\n",
      "Gain:  0.37173447537473236\n",
      "--------------------\n",
      "********************\n",
      "********************\n"
     ]
    },
    {
     "name": "stderr",
     "output_type": "stream",
     "text": [
      "\r",
      " 43%|████▎     | 43/100 [04:19<05:29,  5.77s/it]"
     ]
    },
    {
     "name": "stdout",
     "output_type": "stream",
     "text": [
      "Training accuracy on selected features: 1.000\n",
      "Testing accuracy on selected features: 0.875\n",
      "F1 Score: 0.839460214053048\n",
      "Distribution:  0.5910740203193033\n",
      "Imp features:  Index(['ATP2ter', 'sink_lnlncacoa[c]', 'HMGCOAtm', 'MEV_Rt', 'EX_mev_R[e]',\n",
      "       'PEt', 'RE0344C', 'FACOAL245_2', 'EX_pe_hs[e]', 'RTOTALt'],\n",
      "      dtype='object')\n",
      "--------------------\n",
      "Gain:  0.283744557329463\n",
      "--------------------\n",
      "********************\n",
      "********************\n"
     ]
    },
    {
     "name": "stderr",
     "output_type": "stream",
     "text": [
      "\r",
      " 44%|████▍     | 44/100 [04:25<05:27,  5.86s/it]"
     ]
    },
    {
     "name": "stdout",
     "output_type": "stream",
     "text": [
      "Training accuracy on selected features: 1.000\n",
      "Testing accuracy on selected features: 0.860\n",
      "F1 Score: 0.8727272727272727\n",
      "Distribution:  0.5763747454175153\n",
      "Imp features:  Index(['ATP2ter', 'FACOAL245_2', 'sink_lnlncacoa[c]', 'EX_pe_hs[e]', 'PEt',\n",
      "       'DGTPtn', 'HMR_0692', 'EX_Rtotal[e]', 'SPHGNte', 'URIt'],\n",
      "      dtype='object')\n",
      "--------------------\n",
      "Gain:  0.2834351663272233\n",
      "--------------------\n",
      "********************\n",
      "********************\n"
     ]
    },
    {
     "name": "stderr",
     "output_type": "stream",
     "text": [
      "\r",
      " 45%|████▌     | 45/100 [04:31<05:22,  5.87s/it]"
     ]
    },
    {
     "name": "stdout",
     "output_type": "stream",
     "text": [
      "Training accuracy on selected features: 1.000\n",
      "Testing accuracy on selected features: 0.705\n",
      "F1 Score: 0.7146332985749044\n",
      "Distribution:  0.580309019044197\n",
      "Failed to gain:  0.1246855910887531\n",
      "********************\n",
      "********************\n"
     ]
    },
    {
     "name": "stderr",
     "output_type": "stream",
     "text": [
      "\r",
      " 46%|████▌     | 46/100 [04:37<05:20,  5.94s/it]"
     ]
    },
    {
     "name": "stdout",
     "output_type": "stream",
     "text": [
      "Training accuracy on selected features: 1.000\n",
      "Testing accuracy on selected features: 0.781\n",
      "F1 Score: 0.8096402375130981\n",
      "Distribution:  0.5834001603849238\n",
      "Failed to gain:  0.19807538091419408\n",
      "********************\n",
      "********************\n"
     ]
    },
    {
     "name": "stderr",
     "output_type": "stream",
     "text": [
      "\r",
      " 47%|████▋     | 47/100 [04:44<05:24,  6.12s/it]"
     ]
    },
    {
     "name": "stdout",
     "output_type": "stream",
     "text": [
      "Training accuracy on selected features: 1.000\n",
      "Testing accuracy on selected features: 0.864\n",
      "F1 Score: 0.8846153846153846\n",
      "Distribution:  0.6263418662262593\n",
      "Imp features:  Index(['ATP2ter', 'EX_pe_hs[e]', 'PEt', 'EX_sphgn[e]', 'HMGCOAtm', 'HMR_0753',\n",
      "       'PGLYCt', 'DGTPtn', 'HMR_0692', 'NDPK4'],\n",
      "      dtype='object')\n",
      "--------------------\n",
      "Gain:  0.23740710156895128\n",
      "--------------------\n",
      "********************\n",
      "********************\n"
     ]
    },
    {
     "name": "stderr",
     "output_type": "stream",
     "text": [
      "\r",
      " 48%|████▊     | 48/100 [04:49<05:13,  6.02s/it]"
     ]
    },
    {
     "name": "stdout",
     "output_type": "stream",
     "text": [
      "Training accuracy on selected features: 1.000\n",
      "Testing accuracy on selected features: 0.781\n",
      "F1 Score: 0.7622828784119108\n",
      "Distribution:  0.523112128146453\n",
      "Imp features:  Index(['ATP2ter', 'FACOAL245_2', 'sink_lnlncacoa[c]', 'EX_pglyc_hs[e]',\n",
      "       'sink_lnlc[c]', 'EX_Rtotal[e]', 'DATPtn', 'SPHGNte', 'PGLYCt',\n",
      "       'RTOTALt'],\n",
      "      dtype='object')\n",
      "--------------------\n",
      "Gain:  0.2576659038901602\n",
      "--------------------\n",
      "********************\n",
      "********************\n"
     ]
    },
    {
     "name": "stderr",
     "output_type": "stream",
     "text": [
      "\r",
      " 49%|████▉     | 49/100 [04:55<05:04,  5.96s/it]"
     ]
    },
    {
     "name": "stdout",
     "output_type": "stream",
     "text": [
      "Training accuracy on selected features: 1.000\n",
      "Testing accuracy on selected features: 0.628\n",
      "F1 Score: 0.6066693451185214\n",
      "Distribution:  0.605093120486507\n",
      "Failed to gain:  0.022805017103762926\n",
      "********************\n",
      "********************\n"
     ]
    },
    {
     "name": "stderr",
     "output_type": "stream",
     "text": [
      "\r",
      " 50%|█████     | 50/100 [05:02<05:06,  6.13s/it]"
     ]
    },
    {
     "name": "stdout",
     "output_type": "stream",
     "text": [
      "Training accuracy on selected features: 1.000\n",
      "Testing accuracy on selected features: 0.894\n",
      "F1 Score: 0.9183618117710877\n",
      "Distribution:  0.6375838926174496\n",
      "Imp features:  Index(['ATP2ter', 'HMGCOAtm', 'r0139', 'r0488', 'EX_mev_R[e]', 'RTOTALt',\n",
      "       'sink_lnlncacoa[c]', 'EX_Rtotal[e]', 'EX_ctp[e]', 'EX_cmp[e]'],\n",
      "      dtype='object')\n",
      "--------------------\n",
      "Gain:  0.25609325326739674\n",
      "--------------------\n",
      "********************\n",
      "********************\n"
     ]
    },
    {
     "name": "stderr",
     "output_type": "stream",
     "text": [
      "\r",
      " 51%|█████     | 51/100 [05:08<05:02,  6.18s/it]"
     ]
    },
    {
     "name": "stdout",
     "output_type": "stream",
     "text": [
      "Training accuracy on selected features: 1.000\n",
      "Testing accuracy on selected features: 0.811\n",
      "F1 Score: 0.7574786324786323\n",
      "Distribution:  0.573094543940025\n",
      "Imp features:  Index(['ATP2ter', 'sink_lnlc[c]', 'MEV_Rt', 'HMR_0753', 'FACOAL245_2',\n",
      "       'EX_Rtotal[e]', 'sink_lnlncacoa[c]', 'RTOTALt', 'EX_mev_R[e]',\n",
      "       'EX_uri[e]'],\n",
      "      dtype='object')\n",
      "--------------------\n",
      "Gain:  0.23781757600999576\n",
      "--------------------\n",
      "********************\n",
      "********************\n"
     ]
    },
    {
     "name": "stderr",
     "output_type": "stream",
     "text": [
      "\r",
      " 52%|█████▏    | 52/100 [05:14<04:54,  6.13s/it]"
     ]
    },
    {
     "name": "stdout",
     "output_type": "stream",
     "text": [
      "Training accuracy on selected features: 1.000\n",
      "Testing accuracy on selected features: 0.721\n",
      "F1 Score: 0.7618398637137991\n",
      "Distribution:  0.6389444222311076\n",
      "Failed to gain:  0.08156737305077966\n",
      "********************\n",
      "********************\n"
     ]
    },
    {
     "name": "stderr",
     "output_type": "stream",
     "text": [
      "\r",
      " 53%|█████▎    | 53/100 [05:20<04:48,  6.15s/it]"
     ]
    },
    {
     "name": "stdout",
     "output_type": "stream",
     "text": [
      "Training accuracy on selected features: 1.000\n",
      "Testing accuracy on selected features: 0.902\n",
      "F1 Score: 0.9127906976744187\n",
      "Distribution:  0.5806188925081434\n",
      "Imp features:  Index(['ATP2ter', 'HMGCOAtm', 'r1466', 'ARTFR12', 'r0488', 'RE0344C', 'URIt',\n",
      "       'EX_mev_R[e]', 'r1004', 'sink_lnlncacoa[c]'],\n",
      "      dtype='object')\n",
      "--------------------\n",
      "Gain:  0.3216612377850162\n",
      "--------------------\n",
      "********************\n",
      "********************\n"
     ]
    },
    {
     "name": "stderr",
     "output_type": "stream",
     "text": [
      "\r",
      " 54%|█████▍    | 54/100 [05:27<04:49,  6.28s/it]"
     ]
    },
    {
     "name": "stdout",
     "output_type": "stream",
     "text": [
      "Training accuracy on selected features: 1.000\n",
      "Testing accuracy on selected features: 0.826\n",
      "F1 Score: 0.8557723057243365\n",
      "Distribution:  0.6611410948342329\n",
      "Failed to gain:  0.16499614494988435\n",
      "********************\n",
      "********************\n"
     ]
    },
    {
     "name": "stderr",
     "output_type": "stream",
     "text": [
      "\r",
      " 55%|█████▌    | 55/100 [05:34<05:00,  6.67s/it]"
     ]
    },
    {
     "name": "stdout",
     "output_type": "stream",
     "text": [
      "Training accuracy on selected features: 1.000\n",
      "Testing accuracy on selected features: 0.838\n",
      "F1 Score: 0.8754962107542403\n",
      "Distribution:  0.5961538461538461\n",
      "Imp features:  Index(['ATP2ter', 'EX_uri[e]', 'URIt', 'DNDPt9m', 'PEt', 'EX_Rtotal[e]', 'SMS',\n",
      "       'r1466', 'biomass_reaction', 'r1004'],\n",
      "      dtype='object')\n",
      "--------------------\n",
      "Gain:  0.24202626641651037\n",
      "--------------------\n",
      "********************\n",
      "********************\n"
     ]
    },
    {
     "name": "stderr",
     "output_type": "stream",
     "text": [
      "\r",
      " 56%|█████▌    | 56/100 [05:42<05:03,  6.90s/it]"
     ]
    },
    {
     "name": "stdout",
     "output_type": "stream",
     "text": [
      "Training accuracy on selected features: 1.000\n",
      "Testing accuracy on selected features: 0.708\n",
      "F1 Score: 0.7125581395348837\n",
      "Distribution:  0.5593942262186464\n",
      "Failed to gain:  0.14813061997160437\n",
      "********************\n",
      "********************\n"
     ]
    },
    {
     "name": "stderr",
     "output_type": "stream",
     "text": [
      "\r",
      " 57%|█████▋    | 57/100 [05:48<04:43,  6.60s/it]"
     ]
    },
    {
     "name": "stdout",
     "output_type": "stream",
     "text": [
      "Training accuracy on selected features: 1.000\n",
      "Testing accuracy on selected features: 0.824\n",
      "F1 Score: 0.859251161519541\n",
      "Distribution:  0.5597398151318042\n",
      "Imp features:  Index(['FACOAL245_2', 'EX_mev_R[e]', 'ATP2ter', 'LPS2', 'MEV_Rt',\n",
      "       'sink_lnlncacoa[c]', 'r0488', 'EX_Rtotal[e]', 'RTOTALt',\n",
      "       'sink_lnlc[c]'],\n",
      "      dtype='object')\n",
      "--------------------\n",
      "Gain:  0.26395070181444713\n",
      "--------------------\n",
      "********************\n",
      "********************\n"
     ]
    },
    {
     "name": "stderr",
     "output_type": "stream",
     "text": [
      "\r",
      " 58%|█████▊    | 58/100 [05:54<04:33,  6.50s/it]"
     ]
    },
    {
     "name": "stdout",
     "output_type": "stream",
     "text": [
      "Training accuracy on selected features: 1.000\n",
      "Testing accuracy on selected features: 0.856\n",
      "F1 Score: 0.8738077769625824\n",
      "Distribution:  0.5411961522375575\n",
      "Imp features:  Index(['ATP2ter', 'PEt', 'EX_uri[e]', 'FACOAL245_2', 'EX_pe_hs[e]',\n",
      "       'sink_lnlc[c]', 'RE0344C', 'URIt', 'DATPtn', 'EX_mev_R[e]'],\n",
      "      dtype='object')\n",
      "--------------------\n",
      "Gain:  0.314930991217064\n",
      "--------------------\n",
      "********************\n",
      "********************\n"
     ]
    },
    {
     "name": "stderr",
     "output_type": "stream",
     "text": [
      "\r",
      " 59%|█████▉    | 59/100 [06:00<04:20,  6.36s/it]"
     ]
    },
    {
     "name": "stdout",
     "output_type": "stream",
     "text": [
      "Training accuracy on selected features: 1.000\n",
      "Testing accuracy on selected features: 0.793\n",
      "F1 Score: 0.8334600760456274\n",
      "Distribution:  0.6302600472813239\n",
      "Failed to gain:  0.16264775413711585\n",
      "********************\n",
      "********************\n"
     ]
    },
    {
     "name": "stderr",
     "output_type": "stream",
     "text": [
      "\r",
      " 60%|██████    | 60/100 [06:06<04:11,  6.28s/it]"
     ]
    },
    {
     "name": "stdout",
     "output_type": "stream",
     "text": [
      "Training accuracy on selected features: 1.000\n",
      "Testing accuracy on selected features: 0.864\n",
      "F1 Score: 0.8561776061776061\n",
      "Distribution:  0.5316628701594532\n",
      "Imp features:  Index(['ATP2ter', 'PEt', 'FACOAL245_2', 'HMGCOAtm', 'EX_pe_hs[e]', 'r0488',\n",
      "       'EX_uri[e]', 'DNDPt9m', 'sink_lnlncacoa[c]', 'HMR_0692'],\n",
      "      dtype='object')\n",
      "--------------------\n",
      "Gain:  0.3325740318906607\n",
      "--------------------\n",
      "********************\n",
      "********************\n"
     ]
    },
    {
     "name": "stderr",
     "output_type": "stream",
     "text": [
      "\r",
      " 61%|██████    | 61/100 [06:13<04:11,  6.44s/it]"
     ]
    },
    {
     "name": "stdout",
     "output_type": "stream",
     "text": [
      "Training accuracy on selected features: 1.000\n",
      "Testing accuracy on selected features: 0.888\n",
      "F1 Score: 0.9081850533807829\n",
      "Distribution:  0.6288076588337685\n",
      "Imp features:  Index(['ATP2ter', 'sink_lnlncacoa[c]', 'biomass_reaction', 'CLS_hs', 'SMS',\n",
      "       'r0430', 'r1004', 'DGTPtn', 'r1050', 'DTTPtn'],\n",
      "      dtype='object')\n",
      "--------------------\n",
      "Gain:  0.25892080069625756\n",
      "--------------------\n",
      "********************\n",
      "********************\n"
     ]
    },
    {
     "name": "stderr",
     "output_type": "stream",
     "text": [
      "\r",
      " 62%|██████▏   | 62/100 [06:19<04:02,  6.39s/it]"
     ]
    },
    {
     "name": "stdout",
     "output_type": "stream",
     "text": [
      "Training accuracy on selected features: 1.000\n",
      "Testing accuracy on selected features: 0.769\n",
      "F1 Score: 0.8125257519571487\n",
      "Distribution:  0.5246067985794013\n",
      "Imp features:  Index(['ATP2ter', 'FACOAL245_2', 'sink_lnlncacoa[c]', 'sink_lnlc[c]', 'r1466',\n",
      "       'PEt', 'EX_uri[e]', 'r0488', 'GLPASE1', 'EX_mev_R[e]'],\n",
      "      dtype='object')\n",
      "--------------------\n",
      "Gain:  0.24454591577879248\n",
      "--------------------\n",
      "********************\n",
      "********************\n"
     ]
    },
    {
     "name": "stderr",
     "output_type": "stream",
     "text": [
      "\r",
      " 63%|██████▎   | 63/100 [06:25<03:50,  6.22s/it]"
     ]
    },
    {
     "name": "stdout",
     "output_type": "stream",
     "text": [
      "Training accuracy on selected features: 1.000\n",
      "Testing accuracy on selected features: 0.890\n",
      "F1 Score: 0.8872081552121012\n",
      "Distribution:  0.5284891165172856\n",
      "Imp features:  Index(['ATP2ter', 'r0488', 'sink_lnlncacoa[c]', 'EX_mev_R[e]', 'MEV_Rt',\n",
      "       'HMGCOAtm', 'SMS', 'DNDPt9m', 'FACOAL245_2', 'SPHGNte'],\n",
      "      dtype='object')\n",
      "--------------------\n",
      "Gain:  0.3617157490396926\n",
      "--------------------\n",
      "********************\n",
      "********************\n"
     ]
    },
    {
     "name": "stderr",
     "output_type": "stream",
     "text": [
      "\r",
      " 64%|██████▍   | 64/100 [06:31<03:36,  6.02s/it]"
     ]
    },
    {
     "name": "stdout",
     "output_type": "stream",
     "text": [
      "Training accuracy on selected features: 1.000\n",
      "Testing accuracy on selected features: 0.923\n",
      "F1 Score: 0.9297068173790181\n",
      "Distribution:  0.5445736434108527\n",
      "Imp features:  Index(['ATP2ter', 'FACOAL245_2', 'r0488', 'EX_mev_R[e]', 'MEV_Rt', 'PGLYCt',\n",
      "       'biomass_reaction', 'DTTPtn', 'HMGCOAtm', 'r1466'],\n",
      "      dtype='object')\n",
      "--------------------\n",
      "Gain:  0.3782945736434109\n",
      "--------------------\n",
      "********************\n",
      "********************\n"
     ]
    },
    {
     "name": "stderr",
     "output_type": "stream",
     "text": [
      "\r",
      " 65%|██████▌   | 65/100 [06:36<03:28,  5.96s/it]"
     ]
    },
    {
     "name": "stdout",
     "output_type": "stream",
     "text": [
      "Training accuracy on selected features: 1.000\n",
      "Testing accuracy on selected features: 0.754\n",
      "F1 Score: 0.74577440496723\n",
      "Distribution:  0.5667556742323098\n",
      "Failed to gain:  0.18724966622162886\n",
      "********************\n",
      "********************\n"
     ]
    },
    {
     "name": "stderr",
     "output_type": "stream",
     "text": [
      "\r",
      " 66%|██████▌   | 66/100 [06:43<03:25,  6.05s/it]"
     ]
    },
    {
     "name": "stdout",
     "output_type": "stream",
     "text": [
      "Training accuracy on selected features: 1.000\n",
      "Testing accuracy on selected features: 0.916\n",
      "F1 Score: 0.9271050282653971\n",
      "Distribution:  0.6137693631669535\n",
      "Imp features:  Index(['ATP2ter', 'FACOAL245_2', 'PEt', 'sink_lnlncacoa[c]', 'r0488',\n",
      "       'EX_pe_hs[e]', 'LPS2', 'EX_uri[e]', 'EX_mev_R[e]', 'NDPK4'],\n",
      "      dtype='object')\n",
      "--------------------\n",
      "Gain:  0.30189328743545607\n",
      "--------------------\n",
      "********************\n",
      "********************\n"
     ]
    },
    {
     "name": "stderr",
     "output_type": "stream",
     "text": [
      "\r",
      " 67%|██████▋   | 67/100 [06:49<03:22,  6.14s/it]"
     ]
    },
    {
     "name": "stdout",
     "output_type": "stream",
     "text": [
      "Training accuracy on selected features: 1.000\n",
      "Testing accuracy on selected features: 0.914\n",
      "F1 Score: 0.931197670185657\n",
      "Distribution:  0.6170018281535649\n",
      "Imp features:  Index(['ATP2ter', 'HMGCOAtm', 'FACOAL245_2', 'RE3245C', 'r0488', 'r1466',\n",
      "       'sink_lnlncacoa[c]', 'MEV_Rt', 'EX_Rtotal[e]', 'sink_lnlc[c]'],\n",
      "      dtype='object')\n",
      "--------------------\n",
      "Gain:  0.296617915904936\n",
      "--------------------\n",
      "********************\n",
      "********************\n"
     ]
    },
    {
     "name": "stderr",
     "output_type": "stream",
     "text": [
      "\r",
      " 68%|██████▊   | 68/100 [06:56<03:21,  6.29s/it]"
     ]
    },
    {
     "name": "stdout",
     "output_type": "stream",
     "text": [
      "Training accuracy on selected features: 1.000\n",
      "Testing accuracy on selected features: 0.754\n",
      "F1 Score: 0.8063439065108513\n",
      "Distribution:  0.6430594900849859\n",
      "Failed to gain:  0.11048158640226624\n",
      "********************\n",
      "********************\n"
     ]
    },
    {
     "name": "stderr",
     "output_type": "stream",
     "text": [
      "\r",
      " 69%|██████▉   | 69/100 [07:03<03:23,  6.56s/it]"
     ]
    },
    {
     "name": "stdout",
     "output_type": "stream",
     "text": [
      "Training accuracy on selected features: 1.000\n",
      "Testing accuracy on selected features: 0.802\n",
      "F1 Score: 0.842671194114318\n",
      "Distribution:  0.5640385301462718\n",
      "Imp features:  Index(['ATP2ter', 'FACOAL245_2', 'sink_lnlncacoa[c]', 'sink_lnlc[c]',\n",
      "       'HMGCOAtm', 'EX_mev_R[e]', 'MEV_Rt', 'r0488', 'RE0344C', 'r1050'],\n",
      "      dtype='object')\n",
      "--------------------\n",
      "Gain:  0.23760256867641816\n",
      "--------------------\n",
      "********************\n",
      "********************\n"
     ]
    },
    {
     "name": "stderr",
     "output_type": "stream",
     "text": [
      "\r",
      " 70%|███████   | 70/100 [07:10<03:23,  6.78s/it]"
     ]
    },
    {
     "name": "stdout",
     "output_type": "stream",
     "text": [
      "Training accuracy on selected features: 1.000\n",
      "Testing accuracy on selected features: 0.728\n",
      "F1 Score: 0.7419493344783168\n",
      "Distribution:  0.653393665158371\n",
      "Failed to gain:  0.07466063348416285\n",
      "********************\n",
      "********************\n"
     ]
    },
    {
     "name": "stderr",
     "output_type": "stream",
     "text": [
      "\r",
      " 71%|███████   | 71/100 [07:18<03:23,  7.02s/it]"
     ]
    },
    {
     "name": "stdout",
     "output_type": "stream",
     "text": [
      "Training accuracy on selected features: 1.000\n",
      "Testing accuracy on selected features: 0.834\n",
      "F1 Score: 0.8496110630942093\n",
      "Distribution:  0.5663167938931297\n",
      "Imp features:  Index(['FACOAL245_2', 'ATP2ter', 'EX_mev_R[e]', 'MEV_Rt', 'r0488', 'HMGCOAtm',\n",
      "       'sink_lnlncacoa[c]', 'EX_Rtotal[e]', 'EX_uri[e]', 'biomass_reaction'],\n",
      "      dtype='object')\n",
      "--------------------\n",
      "Gain:  0.26765267175572527\n",
      "--------------------\n",
      "********************\n",
      "********************\n"
     ]
    },
    {
     "name": "stderr",
     "output_type": "stream",
     "text": [
      "\r",
      " 72%|███████▏  | 72/100 [07:24<03:13,  6.91s/it]"
     ]
    },
    {
     "name": "stdout",
     "output_type": "stream",
     "text": [
      "Training accuracy on selected features: 1.000\n",
      "Testing accuracy on selected features: 0.851\n",
      "F1 Score: 0.8877162122544708\n",
      "Distribution:  0.6058365758754863\n",
      "Imp features:  Index(['ATP2ter', 'sink_lnlncacoa[c]', 'MEV_Rt', 'EX_uri[e]', 'RE0344C',\n",
      "       'FACOAL245_2', 'HMGCOAtm', 'EX_mev_R[e]', 'EX_pglyc_hs[e]',\n",
      "       'EX_sphgn[e]'],\n",
      "      dtype='object')\n",
      "--------------------\n",
      "Gain:  0.24513618677042803\n",
      "--------------------\n",
      "********************\n",
      "********************\n"
     ]
    },
    {
     "name": "stderr",
     "output_type": "stream",
     "text": [
      "\r",
      " 73%|███████▎  | 73/100 [07:31<03:03,  6.80s/it]"
     ]
    },
    {
     "name": "stdout",
     "output_type": "stream",
     "text": [
      "Training accuracy on selected features: 1.000\n",
      "Testing accuracy on selected features: 0.845\n",
      "F1 Score: 0.8742556917688266\n",
      "Distribution:  0.6524547803617571\n",
      "Failed to gain:  0.19293712316968137\n",
      "********************\n",
      "********************\n"
     ]
    },
    {
     "name": "stderr",
     "output_type": "stream",
     "text": [
      "\r",
      " 74%|███████▍  | 74/100 [07:37<02:47,  6.45s/it]"
     ]
    },
    {
     "name": "stdout",
     "output_type": "stream",
     "text": [
      "Training accuracy on selected features: 1.000\n",
      "Testing accuracy on selected features: 0.829\n",
      "F1 Score: 0.8470093177036369\n",
      "Distribution:  0.5971802618328298\n",
      "Imp features:  Index(['r1466', 'ATP2ter', 'HMR_0753', 'r1004', 'DNDPt9m', 'r0430',\n",
      "       'FACOAL245_2', 'EX_uri[e]', 'ARTFR12', 'URIt'],\n",
      "      dtype='object')\n",
      "--------------------\n",
      "Gain:  0.2319570325612622\n",
      "--------------------\n",
      "********************\n",
      "********************\n"
     ]
    },
    {
     "name": "stderr",
     "output_type": "stream",
     "text": [
      "\r",
      " 75%|███████▌  | 75/100 [07:43<02:39,  6.38s/it]"
     ]
    },
    {
     "name": "stdout",
     "output_type": "stream",
     "text": [
      "Training accuracy on selected features: 1.000\n",
      "Testing accuracy on selected features: 0.637\n",
      "F1 Score: 0.6329323931978432\n",
      "Distribution:  0.6230516817063166\n",
      "Failed to gain:  0.013945857260049266\n",
      "********************\n",
      "********************\n"
     ]
    },
    {
     "name": "stderr",
     "output_type": "stream",
     "text": [
      "\r",
      " 76%|███████▌  | 76/100 [07:49<02:29,  6.24s/it]"
     ]
    },
    {
     "name": "stdout",
     "output_type": "stream",
     "text": [
      "Training accuracy on selected features: 1.000\n",
      "Testing accuracy on selected features: 0.845\n",
      "F1 Score: 0.8355371900826446\n",
      "Distribution:  0.5297549591598599\n",
      "Imp features:  Index(['FACOAL245_2', 'ATP2ter', 'RTOTALt', 'EX_mev_R[e]', 'HMGCOAtm', 'LPS2',\n",
      "       'r0488', 'r1466', 'EX_Rtotal[e]', 'MEV_Rt'],\n",
      "      dtype='object')\n",
      "--------------------\n",
      "Gain:  0.3154414624659666\n",
      "--------------------\n",
      "********************\n",
      "********************\n"
     ]
    },
    {
     "name": "stderr",
     "output_type": "stream",
     "text": [
      "\r",
      " 77%|███████▋  | 77/100 [07:55<02:21,  6.16s/it]"
     ]
    },
    {
     "name": "stdout",
     "output_type": "stream",
     "text": [
      "Training accuracy on selected features: 1.000\n",
      "Testing accuracy on selected features: 0.822\n",
      "F1 Score: 0.8354700854700855\n",
      "Distribution:  0.5467128027681661\n",
      "Imp features:  Index(['ATP2ter', 'EX_mev_R[e]', 'MEV_Rt', 'FACOAL245_2', 'HMGCOAtm', 'r0488',\n",
      "       'sink_lnlncacoa[c]', 'DGTPtn', 'sink_lnlc[c]', 'RTOTALt'],\n",
      "      dtype='object')\n",
      "--------------------\n",
      "Gain:  0.2756632064590542\n",
      "--------------------\n",
      "********************\n",
      "********************\n"
     ]
    },
    {
     "name": "stderr",
     "output_type": "stream",
     "text": [
      "\r",
      " 78%|███████▊  | 78/100 [08:01<02:16,  6.22s/it]"
     ]
    },
    {
     "name": "stdout",
     "output_type": "stream",
     "text": [
      "Training accuracy on selected features: 1.000\n",
      "Testing accuracy on selected features: 0.709\n",
      "F1 Score: 0.7269695706544393\n",
      "Distribution:  0.5608888888888889\n",
      "Failed to gain:  0.14800000000000002\n",
      "********************\n",
      "********************\n"
     ]
    },
    {
     "name": "stderr",
     "output_type": "stream",
     "text": [
      "\r",
      " 79%|███████▉  | 79/100 [08:07<02:07,  6.07s/it]"
     ]
    },
    {
     "name": "stdout",
     "output_type": "stream",
     "text": [
      "Training accuracy on selected features: 1.000\n",
      "Testing accuracy on selected features: 0.863\n",
      "F1 Score: 0.8709267879813797\n",
      "Distribution:  0.5594970812752582\n",
      "Imp features:  Index(['ATP2ter', 'sink_lnlncacoa[c]', 'EX_pe_hs[e]', 'r1050', 'PEt',\n",
      "       'FACOAL245_2', 'r1466', 'EX_sphgn[e]', 'sink_tag_hs[c]', 'DGAT'],\n",
      "      dtype='object')\n",
      "--------------------\n",
      "Gain:  0.3035473731477324\n",
      "--------------------\n",
      "********************\n",
      "********************\n"
     ]
    },
    {
     "name": "stderr",
     "output_type": "stream",
     "text": [
      "\r",
      " 80%|████████  | 80/100 [08:13<02:01,  6.06s/it]"
     ]
    },
    {
     "name": "stdout",
     "output_type": "stream",
     "text": [
      "Training accuracy on selected features: 1.000\n",
      "Testing accuracy on selected features: 0.784\n",
      "F1 Score: 0.8160213618157542\n",
      "Distribution:  0.567584480600751\n",
      "Imp features:  Index(['ATP2ter', 'RTOTALt', 'sink_lnlncacoa[c]', 'EX_mev_R[e]', 'HMGCOAtm',\n",
      "       'EX_uri[e]', 'URIt', 'EX_Rtotal[e]', 'MEV_Rt', 'LPS2'],\n",
      "      dtype='object')\n",
      "--------------------\n",
      "Gain:  0.21683354192740922\n",
      "--------------------\n",
      "********************\n",
      "********************\n"
     ]
    },
    {
     "name": "stderr",
     "output_type": "stream",
     "text": [
      "\r",
      " 81%|████████  | 81/100 [08:19<01:55,  6.10s/it]"
     ]
    },
    {
     "name": "stdout",
     "output_type": "stream",
     "text": [
      "Training accuracy on selected features: 1.000\n",
      "Testing accuracy on selected features: 0.906\n",
      "F1 Score: 0.9133264816718054\n",
      "Distribution:  0.577123695976155\n",
      "Imp features:  Index(['ATP2ter', 'sink_lnlncacoa[c]', 'FACOAL245_2', 'EX_mev_R[e]', 'MEV_Rt',\n",
      "       'HMGCOAtm', 'sink_lnlc[c]', 'NDPK4', 'r0431', 'r0430'],\n",
      "      dtype='object')\n",
      "--------------------\n",
      "Gain:  0.32861400894187776\n",
      "--------------------\n",
      "********************\n",
      "********************\n"
     ]
    },
    {
     "name": "stderr",
     "output_type": "stream",
     "text": [
      "\r",
      " 82%|████████▏ | 82/100 [08:25<01:52,  6.23s/it]"
     ]
    },
    {
     "name": "stdout",
     "output_type": "stream",
     "text": [
      "Training accuracy on selected features: 1.000\n",
      "Testing accuracy on selected features: 0.745\n",
      "F1 Score: 0.7739837398373984\n",
      "Distribution:  0.5621274644658414\n",
      "Failed to gain:  0.18294360385144426\n",
      "********************\n",
      "********************\n"
     ]
    },
    {
     "name": "stderr",
     "output_type": "stream",
     "text": [
      "\r",
      " 83%|████████▎ | 83/100 [08:32<01:47,  6.32s/it]"
     ]
    },
    {
     "name": "stdout",
     "output_type": "stream",
     "text": [
      "Training accuracy on selected features: 1.000\n",
      "Testing accuracy on selected features: 0.856\n",
      "F1 Score: 0.8637372392365734\n",
      "Distribution:  0.5227592679493196\n",
      "Imp features:  Index(['ATP2ter', 'RTOTALt', 'LPS2', 'EX_Rtotal[e]', 'sink_lnlncacoa[c]',\n",
      "       'r1050', 'DNDPt9m', 'HMGCOAtm', 'URIt', 'EX_uri[e]'],\n",
      "      dtype='object')\n",
      "--------------------\n",
      "Gain:  0.333176912247771\n",
      "--------------------\n",
      "********************\n",
      "********************\n"
     ]
    },
    {
     "name": "stderr",
     "output_type": "stream",
     "text": [
      "\r",
      " 84%|████████▍ | 84/100 [08:38<01:40,  6.29s/it]"
     ]
    },
    {
     "name": "stdout",
     "output_type": "stream",
     "text": [
      "Training accuracy on selected features: 1.000\n",
      "Testing accuracy on selected features: 0.803\n",
      "F1 Score: 0.8621047174701918\n",
      "Distribution:  0.7001482579688658\n",
      "Failed to gain:  0.10266864343958493\n",
      "********************\n",
      "********************\n"
     ]
    },
    {
     "name": "stderr",
     "output_type": "stream",
     "text": [
      "\r",
      " 85%|████████▌ | 85/100 [08:43<01:29,  5.97s/it]"
     ]
    },
    {
     "name": "stdout",
     "output_type": "stream",
     "text": [
      "Training accuracy on selected features: 1.000\n",
      "Testing accuracy on selected features: 0.715\n",
      "F1 Score: 0.7486437613019892\n",
      "Distribution:  0.6372950819672131\n",
      "Failed to gain:  0.07786885245901642\n",
      "********************\n",
      "********************\n"
     ]
    },
    {
     "name": "stderr",
     "output_type": "stream",
     "text": [
      "\r",
      " 86%|████████▌ | 86/100 [08:50<01:24,  6.07s/it]"
     ]
    },
    {
     "name": "stdout",
     "output_type": "stream",
     "text": [
      "Training accuracy on selected features: 1.000\n",
      "Testing accuracy on selected features: 0.758\n",
      "F1 Score: 0.7844217151848938\n",
      "Distribution:  0.5004420866489832\n",
      "Imp features:  Index(['ATP2ter', 'EX_pe_hs[e]', 'sink_lnlncacoa[c]', 'DGAT', 'PEt', 'DTTPtn',\n",
      "       'EX_Rtotal[e]', 'sink_lnlc[c]', 'LPS2', 'RTOT_3'],\n",
      "      dtype='object')\n",
      "--------------------\n",
      "Gain:  0.2572944297082228\n",
      "--------------------\n",
      "********************\n",
      "********************\n"
     ]
    },
    {
     "name": "stderr",
     "output_type": "stream",
     "text": [
      "\r",
      " 87%|████████▋ | 87/100 [08:56<01:19,  6.15s/it]"
     ]
    },
    {
     "name": "stdout",
     "output_type": "stream",
     "text": [
      "Training accuracy on selected features: 1.000\n",
      "Testing accuracy on selected features: 0.816\n",
      "F1 Score: 0.8479467258601554\n",
      "Distribution:  0.613666815542653\n",
      "Imp features:  Index(['ATP2ter', 'FACOAL245_2', 'URIt', 'MEV_Rt', 'sink_lnlncacoa[c]',\n",
      "       'EX_uri[e]', 'r0488', 'HMGCOAtm', 'EX_Rtotal[e]', 'biomass_reaction'],\n",
      "      dtype='object')\n",
      "--------------------\n",
      "Gain:  0.2027690933452434\n",
      "--------------------\n",
      "********************\n",
      "********************\n"
     ]
    },
    {
     "name": "stderr",
     "output_type": "stream",
     "text": [
      "\r",
      " 88%|████████▊ | 88/100 [09:03<01:14,  6.23s/it]"
     ]
    },
    {
     "name": "stdout",
     "output_type": "stream",
     "text": [
      "Training accuracy on selected features: 1.000\n",
      "Testing accuracy on selected features: 0.790\n",
      "F1 Score: 0.7993839045051984\n",
      "Distribution:  0.5982286634460547\n",
      "Failed to gain:  0.19202898550724634\n",
      "********************\n",
      "********************\n"
     ]
    },
    {
     "name": "stderr",
     "output_type": "stream",
     "text": [
      "\r",
      " 89%|████████▉ | 89/100 [09:09<01:08,  6.20s/it]"
     ]
    },
    {
     "name": "stdout",
     "output_type": "stream",
     "text": [
      "Training accuracy on selected features: 1.000\n",
      "Testing accuracy on selected features: 0.665\n",
      "F1 Score: 0.6878775674587193\n",
      "Distribution:  0.6393939393939394\n",
      "Failed to gain:  0.02510822510822508\n",
      "********************\n",
      "********************\n"
     ]
    },
    {
     "name": "stderr",
     "output_type": "stream",
     "text": [
      "\r",
      " 90%|█████████ | 90/100 [09:15<01:03,  6.33s/it]"
     ]
    },
    {
     "name": "stdout",
     "output_type": "stream",
     "text": [
      "Training accuracy on selected features: 1.000\n",
      "Testing accuracy on selected features: 0.857\n",
      "F1 Score: 0.8847708894878706\n",
      "Distribution:  0.5924528301886792\n",
      "Imp features:  Index(['ATP2ter', 'MEV_Rt', 'sink_lnlncacoa[c]', 'FACOAL245_2', 'HMGCOAtm',\n",
      "       'r0488', 'RTOTALt', 'r1466', 'sink_coa[c]', 'r0431'],\n",
      "      dtype='object')\n",
      "--------------------\n",
      "Gain:  0.26415094339622647\n",
      "--------------------\n",
      "********************\n",
      "********************\n"
     ]
    },
    {
     "name": "stderr",
     "output_type": "stream",
     "text": [
      "\r",
      " 91%|█████████ | 91/100 [09:21<00:55,  6.22s/it]"
     ]
    },
    {
     "name": "stdout",
     "output_type": "stream",
     "text": [
      "Training accuracy on selected features: 1.000\n",
      "Testing accuracy on selected features: 0.806\n",
      "F1 Score: 0.8088721094856065\n",
      "Distribution:  0.5832535885167464\n",
      "Imp features:  Index(['ATP2ter', 'FACOAL245_2', 'sink_lnlncacoa[c]', 'r1050', 'CLS_hs',\n",
      "       'sink_coa[c]', 'HMR_0753', 'EX_pglyc_hs[e]', 'SPHGNte', 'DATPtn'],\n",
      "      dtype='object')\n",
      "--------------------\n",
      "Gain:  0.2229665071770336\n",
      "--------------------\n",
      "********************\n",
      "********************\n"
     ]
    },
    {
     "name": "stderr",
     "output_type": "stream",
     "text": [
      "\r",
      " 92%|█████████▏| 92/100 [09:27<00:49,  6.21s/it]"
     ]
    },
    {
     "name": "stdout",
     "output_type": "stream",
     "text": [
      "Training accuracy on selected features: 1.000\n",
      "Testing accuracy on selected features: 0.799\n",
      "F1 Score: 0.8018867924528301\n",
      "Distribution:  0.5227817745803357\n",
      "Imp features:  Index(['ATP2ter', 'LPS2', 'r0488', 'FACOAL245_2', 'MEV_Rt', 'EX_Rtotal[e]',\n",
      "       'EX_sphgn[e]', 'EX_mev_R[e]', 'sink_lnlncacoa[c]', 'HMR_0692'],\n",
      "      dtype='object')\n",
      "--------------------\n",
      "Gain:  0.275779376498801\n",
      "--------------------\n",
      "********************\n",
      "********************\n"
     ]
    },
    {
     "name": "stderr",
     "output_type": "stream",
     "text": [
      "\r",
      " 93%|█████████▎| 93/100 [09:33<00:42,  6.13s/it]"
     ]
    },
    {
     "name": "stdout",
     "output_type": "stream",
     "text": [
      "Training accuracy on selected features: 1.000\n",
      "Testing accuracy on selected features: 0.678\n",
      "F1 Score: 0.7025843188786685\n",
      "Distribution:  0.5774514448128849\n",
      "Failed to gain:  0.10090004737091429\n",
      "********************\n",
      "********************\n"
     ]
    },
    {
     "name": "stderr",
     "output_type": "stream",
     "text": [
      "\r",
      " 94%|█████████▍| 94/100 [09:40<00:36,  6.13s/it]"
     ]
    },
    {
     "name": "stdout",
     "output_type": "stream",
     "text": [
      "Training accuracy on selected features: 1.000\n",
      "Testing accuracy on selected features: 0.810\n",
      "F1 Score: 0.8445121951219513\n",
      "Distribution:  0.6442953020134228\n",
      "Failed to gain:  0.16554809843400453\n",
      "********************\n",
      "********************\n"
     ]
    },
    {
     "name": "stderr",
     "output_type": "stream",
     "text": [
      "\r",
      " 95%|█████████▌| 95/100 [09:45<00:30,  6.07s/it]"
     ]
    },
    {
     "name": "stdout",
     "output_type": "stream",
     "text": [
      "Training accuracy on selected features: 1.000\n",
      "Testing accuracy on selected features: 0.816\n",
      "F1 Score: 0.7903225806451614\n",
      "Distribution:  0.5305359368508518\n",
      "Imp features:  Index(['FACOAL245_2', 'r1466', 'ATP2ter', 'HMR_0692', 'sink_lnlncacoa[c]',\n",
      "       'DTTPtn', 'HMGCOAtm', 'PGLYCt', 'MEV_Rt', 'EX_pglyc_hs[e]'],\n",
      "      dtype='object')\n",
      "--------------------\n",
      "Gain:  0.28583298712089733\n",
      "--------------------\n",
      "********************\n",
      "********************\n"
     ]
    },
    {
     "name": "stderr",
     "output_type": "stream",
     "text": [
      "\r",
      " 96%|█████████▌| 96/100 [09:52<00:24,  6.11s/it]"
     ]
    },
    {
     "name": "stdout",
     "output_type": "stream",
     "text": [
      "Training accuracy on selected features: 1.000\n",
      "Testing accuracy on selected features: 0.696\n",
      "F1 Score: 0.7025210084033613\n",
      "Distribution:  0.5601374570446735\n",
      "Failed to gain:  0.13573883161512024\n",
      "********************\n",
      "********************\n"
     ]
    },
    {
     "name": "stderr",
     "output_type": "stream",
     "text": [
      "\r",
      " 97%|█████████▋| 97/100 [09:57<00:18,  6.02s/it]"
     ]
    },
    {
     "name": "stdout",
     "output_type": "stream",
     "text": [
      "Training accuracy on selected features: 1.000\n",
      "Testing accuracy on selected features: 0.774\n",
      "F1 Score: 0.7219171243135297\n",
      "Distribution:  0.5474452554744526\n",
      "Imp features:  Index(['ATP2ter', 'FACOAL245_2', 'EX_uri[e]', 'RE0344C', 'LPS2', 'PEt',\n",
      "       'sink_coa[c]', 'URIt', 'r0408', 'r0407'],\n",
      "      dtype='object')\n",
      "--------------------\n",
      "Gain:  0.22668288726682884\n",
      "--------------------\n",
      "********************\n",
      "********************\n"
     ]
    },
    {
     "name": "stderr",
     "output_type": "stream",
     "text": [
      "\r",
      " 98%|█████████▊| 98/100 [10:04<00:12,  6.20s/it]"
     ]
    },
    {
     "name": "stdout",
     "output_type": "stream",
     "text": [
      "Training accuracy on selected features: 1.000\n",
      "Testing accuracy on selected features: 0.635\n",
      "F1 Score: 0.6946502057613169\n",
      "Distribution:  0.6625676340383669\n",
      "Failed to gain:  -0.02754549926217409\n",
      "********************\n",
      "********************\n"
     ]
    },
    {
     "name": "stderr",
     "output_type": "stream",
     "text": [
      "\r",
      " 99%|█████████▉| 99/100 [10:10<00:06,  6.10s/it]"
     ]
    },
    {
     "name": "stdout",
     "output_type": "stream",
     "text": [
      "Training accuracy on selected features: 1.000\n",
      "Testing accuracy on selected features: 0.892\n",
      "F1 Score: 0.8875838926174497\n",
      "Distribution:  0.5291985501409585\n",
      "Imp features:  Index(['ATP2ter', 'r1466', 'sink_lnlncacoa[c]', 'FACOAL245_2', 'SPHGNte',\n",
      "       'URIt', 'sink_lnlc[c]', 'SMS', 'EX_pe_hs[e]', 'r0430'],\n",
      "      dtype='object')\n",
      "--------------------\n",
      "Gain:  0.3628674989931534\n",
      "--------------------\n",
      "********************\n",
      "********************\n"
     ]
    },
    {
     "name": "stderr",
     "output_type": "stream",
     "text": [
      "100%|██████████| 100/100 [10:16<00:00,  6.17s/it]"
     ]
    },
    {
     "name": "stdout",
     "output_type": "stream",
     "text": [
      "Training accuracy on selected features: 1.000\n",
      "Testing accuracy on selected features: 0.828\n",
      "F1 Score: 0.8621526841111411\n",
      "Distribution:  0.6200269723533378\n",
      "Imp features:  Index(['ATP2ter', 'HMGCOAtm', 'FACOAL245_2', 'r0488', 'MEV_Rt', 'r1466',\n",
      "       'EX_mev_R[e]', 'PEt', 'DTTPtn', 'biomass_reaction'],\n",
      "      dtype='object')\n",
      "--------------------\n",
      "Gain:  0.20768712070128115\n",
      "--------------------\n",
      "********************\n",
      "********************\n"
     ]
    },
    {
     "name": "stderr",
     "output_type": "stream",
     "text": [
      "\n"
     ]
    }
   ],
   "source": [
    "imp_list = []\n",
    "accuracy_tracker = []\n",
    "f1_tracker = []\n",
    "precision_tracker = []\n",
    "recall_tracker = []\n",
    "\n",
    "val_distribution_tracker = []\n",
    "imp_df = []\n",
    "\n",
    "# Run model 100 times\n",
    "for _ in tqdm(range(100)):\n",
    "\n",
    "    # Keeping train-val split ratio 80-20\n",
    "    test_sample = random.sample(list(df_cd['sample_number'].unique()), 10) +\\\n",
    "    random.sample(list(df_not_ibd['sample_number'].unique()), 8)\n",
    "\n",
    "    # Undersample CD patients to balance the split\n",
    "    train_sample = list(set(list(random.sample(list(df_cd['sample_number'].unique()), 50)) +\\\n",
    "                            list(df_not_ibd['sample_number'].unique())) - set(test_sample))\n",
    "    \n",
    "    df = pd.concat([df_cd, df_not_ibd], join='inner') \n",
    "    df = df.reset_index(drop=True)\n",
    "    \n",
    "    X_train, y_train = df.loc[df['sample_number'].isin(train_sample), list(set(df.columns)-set(['sample_number', 'label']))].reset_index(drop=True),\\\n",
    "    df.loc[df['sample_number'].isin(train_sample), ['label']].reset_index(drop=True)\n",
    "\n",
    "    X_test, y_test = df.loc[df['sample_number'].isin(test_sample), list(set(df.columns)-set(['sample_number', 'label']))].reset_index(drop=True),\\\n",
    "    df.loc[df['sample_number'].isin(test_sample), ['label']].reset_index(drop=True)\n",
    "\n",
    "    y_train = y_train['label']\n",
    "    y_test = y_test['label']\n",
    "\n",
    "    rf = RandomForestClassifier(n_estimators=100)\n",
    "    rf.fit(X_train, y_train)\n",
    "\n",
    "    y_train_pred = rf.predict(X_train)\n",
    "    print('Training accuracy on selected features: %.3f' % accuracy_score(y_train, y_train_pred))    \n",
    "\n",
    "    y_test_pred = rf.predict(X_test)    \n",
    "    print('Testing accuracy on selected features: %.3f' % accuracy_score(y_test, y_test_pred))    \n",
    "    print('F1 Score: {}'.format(f1_score(y_test, y_test_pred)))\n",
    "    print('Distribution: ', max(y_test.mean(), (1-y_test.mean())))\n",
    "    \n",
    "    selected_cols = X_train.columns[np.argsort(rf.feature_importances_)[::-1]]\n",
    "    \n",
    "    val_distribution_tracker.append(y_test.mean())\n",
    "    f1_tracker.append(f1_score(y_test, y_test_pred))\n",
    "    precision_tracker.append(precision_score(y_test, y_test_pred))    \n",
    "    recall_tracker.append(recall_score(y_test, y_test_pred))        \n",
    "    accuracy_tracker.append(accuracy_score(y_test, y_test_pred))\n",
    "    gain = accuracy_score(y_test, y_test_pred)-max(y_test.mean(), (1-y_test.mean()))\n",
    "    \n",
    "    if gain>0.2:\n",
    "        imp_list += list(selected_cols[:50])\n",
    "        imp_df.append(pd.DataFrame({'reactions': selected_cols[:50], 'rank': range(1, 51)}))\n",
    "        print('Imp features: ', selected_cols[:10])\n",
    "        print('-'*20)\n",
    "        print('Gain: ', gain)\n",
    "        print('-'*20)\n",
    "    else:\n",
    "        print('Failed to gain: ', gain)\n",
    "        \n",
    "    print('*'*20)\n",
    "    print('*'*20)    "
   ]
  },
  {
   "cell_type": "code",
   "execution_count": 139,
   "metadata": {
    "scrolled": true
   },
   "outputs": [
    {
     "name": "stdout",
     "output_type": "stream",
     "text": [
      "Average Accuracy score: 0.8069434975573351\n",
      "Average F1 score: 0.8201534111475917\n",
      "Average validation distribution: 0.5656316648574554\n",
      "Average precisions score: 0.8561159445851869\n",
      "Average recall score: 0.7979496544539648\n"
     ]
    }
   ],
   "source": [
    "print('Average Accuracy score: {}'.format(np.mean(accuracy_tracker)))\n",
    "print('Average F1 score: {}'.format(np.mean(f1_tracker)))\n",
    "print('Average validation distribution: {}'.format(np.mean(val_distribution_tracker)))\n",
    "print('Average precisions score: {}'.format(np.mean(precision_tracker)))\n",
    "print('Average recall score: {}'.format(np.mean(recall_tracker)))"
   ]
  },
  {
   "cell_type": "code",
   "execution_count": 146,
   "metadata": {},
   "outputs": [
    {
     "data": {
      "text/html": [
       "<div>\n",
       "<style scoped>\n",
       "    .dataframe tbody tr th:only-of-type {\n",
       "        vertical-align: middle;\n",
       "    }\n",
       "\n",
       "    .dataframe tbody tr th {\n",
       "        vertical-align: top;\n",
       "    }\n",
       "\n",
       "    .dataframe thead th {\n",
       "        text-align: right;\n",
       "    }\n",
       "</style>\n",
       "<table border=\"1\" class=\"dataframe\">\n",
       "  <thead>\n",
       "    <tr style=\"text-align: right;\">\n",
       "      <th></th>\n",
       "      <th>reactions</th>\n",
       "      <th>rank</th>\n",
       "    </tr>\n",
       "  </thead>\n",
       "  <tbody>\n",
       "    <tr>\n",
       "      <th>0</th>\n",
       "      <td>ATP2ter</td>\n",
       "      <td>1.596774</td>\n",
       "    </tr>\n",
       "    <tr>\n",
       "      <th>1</th>\n",
       "      <td>FACOAL245_2</td>\n",
       "      <td>6.564516</td>\n",
       "    </tr>\n",
       "    <tr>\n",
       "      <th>2</th>\n",
       "      <td>sink_lnlncacoa[c]</td>\n",
       "      <td>7.500000</td>\n",
       "    </tr>\n",
       "    <tr>\n",
       "      <th>3</th>\n",
       "      <td>HMGCOAtm</td>\n",
       "      <td>11.661290</td>\n",
       "    </tr>\n",
       "    <tr>\n",
       "      <th>4</th>\n",
       "      <td>MEV_Rt</td>\n",
       "      <td>14.196721</td>\n",
       "    </tr>\n",
       "    <tr>\n",
       "      <th>5</th>\n",
       "      <td>EX_mev_R[e]</td>\n",
       "      <td>14.508197</td>\n",
       "    </tr>\n",
       "    <tr>\n",
       "      <th>6</th>\n",
       "      <td>r0488</td>\n",
       "      <td>15.387097</td>\n",
       "    </tr>\n",
       "    <tr>\n",
       "      <th>7</th>\n",
       "      <td>EX_uri[e]</td>\n",
       "      <td>16.603448</td>\n",
       "    </tr>\n",
       "    <tr>\n",
       "      <th>8</th>\n",
       "      <td>EX_Rtotal[e]</td>\n",
       "      <td>17.311475</td>\n",
       "    </tr>\n",
       "    <tr>\n",
       "      <th>9</th>\n",
       "      <td>r1466</td>\n",
       "      <td>17.583333</td>\n",
       "    </tr>\n",
       "    <tr>\n",
       "      <th>10</th>\n",
       "      <td>RTOTALt</td>\n",
       "      <td>18.409836</td>\n",
       "    </tr>\n",
       "    <tr>\n",
       "      <th>11</th>\n",
       "      <td>URIt</td>\n",
       "      <td>18.524590</td>\n",
       "    </tr>\n",
       "    <tr>\n",
       "      <th>12</th>\n",
       "      <td>LPS2</td>\n",
       "      <td>18.733333</td>\n",
       "    </tr>\n",
       "    <tr>\n",
       "      <th>13</th>\n",
       "      <td>sink_lnlc[c]</td>\n",
       "      <td>20.109091</td>\n",
       "    </tr>\n",
       "    <tr>\n",
       "      <th>14</th>\n",
       "      <td>HMR_0692</td>\n",
       "      <td>22.355932</td>\n",
       "    </tr>\n",
       "    <tr>\n",
       "      <th>15</th>\n",
       "      <td>PEt</td>\n",
       "      <td>22.727273</td>\n",
       "    </tr>\n",
       "    <tr>\n",
       "      <th>16</th>\n",
       "      <td>SPHGNte</td>\n",
       "      <td>22.898305</td>\n",
       "    </tr>\n",
       "    <tr>\n",
       "      <th>17</th>\n",
       "      <td>CLS_hs</td>\n",
       "      <td>23.131148</td>\n",
       "    </tr>\n",
       "    <tr>\n",
       "      <th>18</th>\n",
       "      <td>PGLYCt</td>\n",
       "      <td>23.169492</td>\n",
       "    </tr>\n",
       "    <tr>\n",
       "      <th>19</th>\n",
       "      <td>r1050</td>\n",
       "      <td>23.327869</td>\n",
       "    </tr>\n",
       "  </tbody>\n",
       "</table>\n",
       "</div>"
      ],
      "text/plain": [
       "            reactions       rank\n",
       "0             ATP2ter   1.596774\n",
       "1         FACOAL245_2   6.564516\n",
       "2   sink_lnlncacoa[c]   7.500000\n",
       "3            HMGCOAtm  11.661290\n",
       "4              MEV_Rt  14.196721\n",
       "5         EX_mev_R[e]  14.508197\n",
       "6               r0488  15.387097\n",
       "7           EX_uri[e]  16.603448\n",
       "8        EX_Rtotal[e]  17.311475\n",
       "9               r1466  17.583333\n",
       "10            RTOTALt  18.409836\n",
       "11               URIt  18.524590\n",
       "12               LPS2  18.733333\n",
       "13       sink_lnlc[c]  20.109091\n",
       "14           HMR_0692  22.355932\n",
       "15                PEt  22.727273\n",
       "16            SPHGNte  22.898305\n",
       "17             CLS_hs  23.131148\n",
       "18             PGLYCt  23.169492\n",
       "19              r1050  23.327869"
      ]
     },
     "execution_count": 146,
     "metadata": {},
     "output_type": "execute_result"
    }
   ],
   "source": [
    "# Top important reactions\n",
    "average_rank = pd.DataFrame({'rank': pd.concat(imp_df).groupby('reactions')['rank'].mean()}).reset_index()\n",
    "average_rank = average_rank.sort_values(by='rank').head(20).reset_index(drop=True)\n",
    "average_rank.head(20)"
   ]
  },
  {
   "cell_type": "code",
   "execution_count": 145,
   "metadata": {},
   "outputs": [
    {
     "data": {
      "text/plain": [
       "ATP2ter              62\n",
       "HMGCOAtm             62\n",
       "FACOAL245_2          62\n",
       "sink_lnlncacoa[c]    62\n",
       "r0430                62\n",
       "r0488                62\n",
       "CLS_hs               61\n",
       "DATPtn               61\n",
       "DNDPt9m              61\n",
       "EX_mev_R[e]          61\n",
       "r1004                61\n",
       "EX_sphgn[e]          61\n",
       "RTOTALt              61\n",
       "MEV_Rt               61\n",
       "EX_Rtotal[e]         61\n",
       "URIt                 61\n",
       "r1050                61\n",
       "EX_pglyc_hs[e]       60\n",
       "r1466                60\n",
       "LPS2                 60\n",
       "Name: 0, dtype: int64"
      ]
     },
     "execution_count": 145,
     "metadata": {},
     "output_type": "execute_result"
    }
   ],
   "source": [
    "pd.DataFrame(imp_list)[0].value_counts().head(20)"
   ]
  }
 ],
 "metadata": {
  "kernelspec": {
   "display_name": "python_yash",
   "language": "python",
   "name": "python_yash"
  },
  "language_info": {
   "codemirror_mode": {
    "name": "ipython",
    "version": 3
   },
   "file_extension": ".py",
   "mimetype": "text/x-python",
   "name": "python",
   "nbconvert_exporter": "python",
   "pygments_lexer": "ipython3",
   "version": "3.8.12"
  }
 },
 "nbformat": 4,
 "nbformat_minor": 4
}
